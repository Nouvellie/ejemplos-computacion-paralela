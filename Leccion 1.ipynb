{
 "cells": [
  {
   "cell_type": "markdown",
   "metadata": {},
   "source": [
    "# Introducción a MPI\n",
    "\n",
    "Bibliografía\n",
    "==\n",
    "\n",
    "<a href=\"http://computing.llnl.gov/tutorials/mpi/\">Message Passing Interface (MPI)</a>\n",
    "\n",
    "<a href=\"http://mpitutorial.com/tutorials/running-an-mpi-cluster-within-a-lan/\">Running an MPI Cluster within a LAN</a>\n",
    "\n",
    "<a href=\"http://condor.cc.ku.edu/~grobe/docs/intro-MPI-C.shtml\">An introduction to the \n",
    "Message Passing Interface (MPI) using C</a>\n",
    "\n"
   ]
  },
  {
   "cell_type": "markdown",
   "metadata": {},
   "source": [
    "Hello world\n",
    "=="
   ]
  },
  {
   "cell_type": "code",
   "execution_count": 5,
   "metadata": {
    "collapsed": false
   },
   "outputs": [
    {
     "name": "stdout",
     "output_type": "stream",
     "text": [
      "Overwriting hello.c\n"
     ]
    }
   ],
   "source": [
    "%%writefile hello.c\n",
    "\n",
    "#include <stdio.h>\n",
    "#include <mpi.h>\n",
    "\n",
    "int main(int argc, char **argv) \n",
    "{\n",
    "  int ierr;\n",
    "\n",
    "  ierr = MPI_Init(&argc, &argv);\n",
    "  printf(\"Hello world\\n\"); \n",
    "\n",
    "  ierr = MPI_Finalize();\n",
    "    return 0;\n",
    "}"
   ]
  },
  {
   "cell_type": "code",
   "execution_count": 28,
   "metadata": {
    "collapsed": false
   },
   "outputs": [],
   "source": [
    "%%bash\n",
    "mpicc hello.c -o hello"
   ]
  },
  {
   "cell_type": "code",
   "execution_count": 30,
   "metadata": {
    "collapsed": false
   },
   "outputs": [
    {
     "name": "stdout",
     "output_type": "stream",
     "text": [
      "Hello world\n",
      "Hello world\n",
      "Hello world\n",
      "Hello world\n"
     ]
    }
   ],
   "source": [
    "%%bash\n",
    "mpirun -np 4 hello"
   ]
  },
  {
   "cell_type": "code",
   "execution_count": 39,
   "metadata": {
    "collapsed": false
   },
   "outputs": [
    {
     "name": "stdout",
     "output_type": "stream",
     "text": [
      "Overwriting hello2.c\n"
     ]
    }
   ],
   "source": [
    "%%writefile hello2.c\n",
    "#include <stdio.h>\n",
    "#include <mpi.h>\n",
    "\n",
    "int main(int argc, char **argv)\n",
    "{\n",
    "  int ierr, num_procs, my_id;\n",
    "\n",
    "  ierr = MPI_Init(&argc, &argv);\n",
    "\n",
    "  /* find out MY process ID, and how many processes were started. */\n",
    "\n",
    "  ierr = MPI_Comm_rank(MPI_COMM_WORLD, &my_id);\n",
    "  ierr = MPI_Comm_size(MPI_COMM_WORLD, &num_procs);\n",
    "\n",
    "  printf(\"Hello world! I'm process %i out of %i processes\\n\", \n",
    "     my_id, num_procs);\n",
    "\n",
    "  ierr = MPI_Finalize();\n",
    "  \n",
    "  return 0;\n",
    "}"
   ]
  },
  {
   "cell_type": "code",
   "execution_count": 40,
   "metadata": {
    "collapsed": false
   },
   "outputs": [],
   "source": [
    "%%bash\n",
    "mpicc hello2.c -o hello2"
   ]
  },
  {
   "cell_type": "code",
   "execution_count": 41,
   "metadata": {
    "collapsed": false
   },
   "outputs": [
    {
     "name": "stdout",
     "output_type": "stream",
     "text": [
      "Hello world! I'm process 1 out of 4 processes\n",
      "Hello world! I'm process 3 out of 4 processes\n",
      "Hello world! I'm process 2 out of 4 processes\n",
      "Hello world! I'm process 0 out of 4 processes\n"
     ]
    }
   ],
   "source": [
    "%%bash\n",
    "mpirun -np 4 hello2"
   ]
  },
  {
   "cell_type": "markdown",
   "metadata": {},
   "source": [
    "# Código en función del Rank"
   ]
  },
  {
   "cell_type": "code",
   "execution_count": 43,
   "metadata": {
    "collapsed": false
   },
   "outputs": [
    {
     "name": "stdout",
     "output_type": "stream",
     "text": [
      "Writing different_task.c\n"
     ]
    }
   ],
   "source": [
    "%%writefile different_task.c   \n",
    "    #include <mpi.h>\n",
    "\n",
    "int main(int argc, char **argv)\n",
    "   {\n",
    "      int my_id, root_process, ierr, num_procs;\n",
    "      MPI_Status status;\n",
    "\n",
    "      /* Create child processes, each of which has its own variables.\n",
    "       * From this point on, every process executes a separate copy\n",
    "       * of this program.  Each process has a different process ID,\n",
    "       * ranging from 0 to num_procs minus 1, and COPIES of all\n",
    "       * variables defined in the program. No variables are shared.\n",
    "       **/\n",
    "\n",
    "      ierr = MPI_Init(&argc, &argv);\n",
    "     \n",
    "      /* find out MY process ID, and how many processes were started. */\n",
    "      \n",
    "      ierr = MPI_Comm_rank(MPI_COMM_WORLD, &my_id);\n",
    "      ierr = MPI_Comm_size(MPI_COMM_WORLD, &num_procs);\n",
    "\n",
    "      if( my_id == 0 ) {\n",
    "\n",
    "         /* do some work as process 0 */\n",
    "      }\n",
    "      else if( my_id == 1 ) {\n",
    "\n",
    "         /* do some work as process 1 */\n",
    "      }\n",
    "      else if( my_id == 2 ) {\n",
    "\n",
    "         /* do some work as process 2 */ \n",
    "      } \n",
    "      else {\n",
    "\n",
    "         /* do this work in any remaining processes */\n",
    "      }\n",
    "      /* Stop this process */\n",
    "\n",
    "      ierr = MPI_Finalize();\n",
    "        \n",
    "      return 0;\n",
    "   }"
   ]
  },
  {
   "cell_type": "code",
   "execution_count": 45,
   "metadata": {
    "collapsed": false
   },
   "outputs": [],
   "source": [
    "%%bash\n",
    "mpicc different_task.c -o different_task\n",
    "mpirun -np 4 different_task"
   ]
  },
  {
   "cell_type": "markdown",
   "metadata": {},
   "source": [
    "# Démosle una oportunidad a python\n",
    "\n",
    "\"*La optimización prematura es la raíz de todos los males*\"  Donald Knuth\n",
    "\n",
    "Una ventaja de C es la velocidad de ejecución de las aplicaciones, una desventaja es que la ingeniería de software es demasiado costosa como para desarrollar aplicaciones complejas. Lo ideal es hacer un prototipo rápido en un lenguaje de ingeniería de software más ágil y luego de tener resultados favorables hacer una implementación que se oriente a la velocidad en los resultados.\n",
    "\n",
    "En esta parte veremos algunos ejemplos de similares resultados a los anteriores pero en **python 2.7**\n",
    "\n",
    "## Recursos\n",
    "\n",
    "https://bitbucket.org/mpi4py/mpi4py\n",
    "\n",
    "http://pythonhosted.org/mpi4py/mpi4py.pdf\n",
    "\n",
    "http://pythonhosted.org/mpi4py/usrman/tutorial.html\n"
   ]
  },
  {
   "cell_type": "code",
   "execution_count": 56,
   "metadata": {
    "collapsed": false
   },
   "outputs": [
    {
     "name": "stdout",
     "output_type": "stream",
     "text": [
      "Overwriting ej0.py\n"
     ]
    }
   ],
   "source": [
    "%%writefile ej0.py\n",
    "from mpi4py import MPI\n",
    "\n",
    "comm = MPI.COMM_WORLD\n",
    "rank = comm.Get_rank()\n",
    "\n",
    "if rank == 0:\n",
    "    \n",
    "    data = {'a': 7, 'b': 3.14}\n",
    "\n",
    "    comm.send(data, dest=1, tag=11)\n",
    "\n",
    "elif rank == 1:\n",
    "    \n",
    "    data = comm.recv(source=0, tag=11)\n",
    "    print data\n"
   ]
  },
  {
   "cell_type": "code",
   "execution_count": 57,
   "metadata": {
    "collapsed": false
   },
   "outputs": [
    {
     "name": "stdout",
     "output_type": "stream",
     "text": [
      "{'a': 7, 'b': 3.14}\n"
     ]
    }
   ],
   "source": [
    "%%bash\n",
    "mpirun -np 2 python ej0.py"
   ]
  },
  {
   "cell_type": "code",
   "execution_count": 66,
   "metadata": {
    "collapsed": false
   },
   "outputs": [
    {
     "name": "stdout",
     "output_type": "stream",
     "text": [
      "Overwriting ej_non_blocking.py\n"
     ]
    }
   ],
   "source": [
    "%%writefile ej_non_blocking.py\n",
    "\n",
    "#parecido al patron de diseno promesa\n",
    "from mpi4py import MPI\n",
    "\n",
    "comm = MPI.COMM_WORLD\n",
    "rank = comm.Get_rank()\n",
    "\n",
    "if rank == 0:\n",
    "    data = {'a': 7, 'b': 3.14}\n",
    "    req = comm.isend(data, dest=1, tag=11)\n",
    "    req.wait()\n",
    "elif rank == 1:\n",
    "    req = comm.irecv(source=0, tag=11)\n",
    "    data = req.wait()\n",
    "    print data"
   ]
  },
  {
   "cell_type": "code",
   "execution_count": 67,
   "metadata": {
    "collapsed": false
   },
   "outputs": [
    {
     "name": "stdout",
     "output_type": "stream",
     "text": [
      "{'a': 7, 'b': 3.14}\n"
     ]
    }
   ],
   "source": [
    "%%bash\n",
    "mpirun -np 2 python ej_non_blocking.py"
   ]
  },
  {
   "cell_type": "code",
   "execution_count": 72,
   "metadata": {
    "collapsed": false
   },
   "outputs": [
    {
     "name": "stdout",
     "output_type": "stream",
     "text": [
      "Overwriting ej_numpy.py\n"
     ]
    }
   ],
   "source": [
    "%%writefile ej_numpy.py\n",
    "from mpi4py import MPI\n",
    "import numpy\n",
    "\n",
    "comm = MPI.COMM_WORLD\n",
    "rank = comm.Get_rank()\n",
    "\n",
    "# passing MPI datatypes explicitly\n",
    "if rank == 0:\n",
    "    data = numpy.arange(1000, dtype='i')\n",
    "    comm.Send([data, MPI.INT], dest=1, tag=77)\n",
    "elif rank == 1:\n",
    "    data = numpy.empty(1000, dtype='i')\n",
    "    comm.Recv([data, MPI.INT], source=0, tag=77)\n",
    "\n",
    "# automatic MPI datatype discovery\n",
    "if rank == 0:\n",
    "    data = numpy.arange(100, dtype=numpy.float64)\n",
    "    comm.Send(data, dest=1, tag=13)\n",
    "elif rank == 1:\n",
    "    data = numpy.empty(100, dtype=numpy.float64)\n",
    "    comm.Recv(data, source=0, tag=13)\n",
    "    print data"
   ]
  },
  {
   "cell_type": "code",
   "execution_count": 73,
   "metadata": {
    "collapsed": false
   },
   "outputs": [
    {
     "name": "stdout",
     "output_type": "stream",
     "text": [
      "[  0.   1.   2.   3.   4.   5.   6.   7.   8.   9.  10.  11.  12.  13.  14.\n",
      "  15.  16.  17.  18.  19.  20.  21.  22.  23.  24.  25.  26.  27.  28.  29.\n",
      "  30.  31.  32.  33.  34.  35.  36.  37.  38.  39.  40.  41.  42.  43.  44.\n",
      "  45.  46.  47.  48.  49.  50.  51.  52.  53.  54.  55.  56.  57.  58.  59.\n",
      "  60.  61.  62.  63.  64.  65.  66.  67.  68.  69.  70.  71.  72.  73.  74.\n",
      "  75.  76.  77.  78.  79.  80.  81.  82.  83.  84.  85.  86.  87.  88.  89.\n",
      "  90.  91.  92.  93.  94.  95.  96.  97.  98.  99.]\n"
     ]
    }
   ],
   "source": [
    "%%bash\n",
    "mpirun -n 2 python ej_numpy.py"
   ]
  },
  {
   "cell_type": "markdown",
   "metadata": {},
   "source": [
    "# Collective comunication\n",
    "\n",
    "Usar send y recv es una forma primitiva de resolver problemas, para aplicar el verdadero map-reduce debemos saber dividir la data en función de la cantidad de procesadores y enviarlos a cada uno de los nodos esclavos."
   ]
  },
  {
   "cell_type": "code",
   "execution_count": 74,
   "metadata": {
    "collapsed": true
   },
   "outputs": [],
   "source": [
    "from mpi4py import MPI\n",
    "\n",
    "comm = MPI.COMM_WORLD\n",
    "rank = comm.Get_rank()\n",
    "\n",
    "if rank == 0:\n",
    "    data = {'key1' : [7, 2.72, 2+3j],\n",
    "            'key2' : ( 'abc', 'xyz')}\n",
    "else:\n",
    "    data = None\n",
    "data = comm.bcast(data, root=0)"
   ]
  },
  {
   "cell_type": "code",
   "execution_count": 75,
   "metadata": {
    "collapsed": true
   },
   "outputs": [],
   "source": [
    "from mpi4py import MPI\n",
    "\n",
    "comm = MPI.COMM_WORLD\n",
    "size = comm.Get_size()\n",
    "rank = comm.Get_rank()\n",
    "\n",
    "if rank == 0:\n",
    "    data = [(i+1)**2 for i in range(size)]\n",
    "else:\n",
    "    data = None\n",
    "data = comm.scatter(data, root=0)\n",
    "assert data == (rank+1)**2"
   ]
  },
  {
   "cell_type": "code",
   "execution_count": 76,
   "metadata": {
    "collapsed": true
   },
   "outputs": [],
   "source": [
    "from mpi4py import MPI\n",
    "\n",
    "comm = MPI.COMM_WORLD\n",
    "size = comm.Get_size()\n",
    "rank = comm.Get_rank()\n",
    "\n",
    "data = (rank+1)**2\n",
    "data = comm.gather(data, root=0)\n",
    "if rank == 0:\n",
    "    for i in range(size):\n",
    "        assert data[i] == (i+1)**2\n",
    "else:\n",
    "    assert data is None"
   ]
  },
  {
   "cell_type": "code",
   "execution_count": 77,
   "metadata": {
    "collapsed": true
   },
   "outputs": [],
   "source": [
    "from mpi4py import MPI\n",
    "import numpy as np\n",
    "\n",
    "comm = MPI.COMM_WORLD\n",
    "rank = comm.Get_rank()\n",
    "\n",
    "if rank == 0:\n",
    "    data = np.arange(100, dtype='i')\n",
    "else:\n",
    "    data = np.empty(100, dtype='i')\n",
    "comm.Bcast(data, root=0)\n",
    "for i in range(100):\n",
    "    assert data[i] == i"
   ]
  },
  {
   "cell_type": "code",
   "execution_count": 78,
   "metadata": {
    "collapsed": true
   },
   "outputs": [],
   "source": [
    "from mpi4py import MPI\n",
    "import numpy as np\n",
    "\n",
    "comm = MPI.COMM_WORLD\n",
    "size = comm.Get_size()\n",
    "rank = comm.Get_rank()\n",
    "\n",
    "sendbuf = None\n",
    "if rank == 0:\n",
    "    sendbuf = np.empty([size, 100], dtype='i')\n",
    "    sendbuf.T[:,:] = range(size)\n",
    "recvbuf = np.empty(100, dtype='i')\n",
    "comm.Scatter(sendbuf, recvbuf, root=0)\n",
    "assert np.allclose(recvbuf, rank)"
   ]
  },
  {
   "cell_type": "code",
   "execution_count": 79,
   "metadata": {
    "collapsed": true
   },
   "outputs": [],
   "source": [
    "from mpi4py import MPI\n",
    "import numpy as np\n",
    "\n",
    "comm = MPI.COMM_WORLD\n",
    "size = comm.Get_size()\n",
    "rank = comm.Get_rank()\n",
    "\n",
    "sendbuf = np.zeros(100, dtype='i') + rank\n",
    "recvbuf = None\n",
    "if rank == 0:\n",
    "    recvbuf = np.empty([size, 100], dtype='i')\n",
    "comm.Gather(sendbuf, recvbuf, root=0)\n",
    "if rank == 0:\n",
    "    for i in range(size):\n",
    "        assert np.allclose(recvbuf[i,:], i)"
   ]
  },
  {
   "cell_type": "code",
   "execution_count": 80,
   "metadata": {
    "collapsed": true
   },
   "outputs": [],
   "source": [
    "from mpi4py import MPI\n",
    "import numpy\n",
    "\n",
    "def matvec(comm, A, x):\n",
    "    m = A.shape[0] # local rows\n",
    "    p = comm.Get_size()\n",
    "    xg = numpy.zeros(m*p, dtype='d')\n",
    "    comm.Allgather([x,  MPI.DOUBLE],\n",
    "                   [xg, MPI.DOUBLE])\n",
    "    y = numpy.dot(A, xg)\n",
    "    return y"
   ]
  },
  {
   "cell_type": "code",
   "execution_count": null,
   "metadata": {
    "collapsed": true
   },
   "outputs": [],
   "source": []
  }
 ],
 "metadata": {
  "kernelspec": {
   "display_name": "Python 2",
   "language": "python",
   "name": "python2"
  },
  "language_info": {
   "codemirror_mode": {
    "name": "ipython",
    "version": 2
   },
   "file_extension": ".py",
   "mimetype": "text/x-python",
   "name": "python",
   "nbconvert_exporter": "python",
   "pygments_lexer": "ipython2",
   "version": "2.7.12"
  }
 },
 "nbformat": 4,
 "nbformat_minor": 1
}
